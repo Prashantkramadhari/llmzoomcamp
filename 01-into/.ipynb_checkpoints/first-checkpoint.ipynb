{
 "cells": [
  {
   "cell_type": "code",
   "execution_count": 1,
   "id": "b078576c-9cba-40cf-9a14-3178634e032e",
   "metadata": {},
   "outputs": [],
   "source": [
    "import openai\n",
    "import os\n"
   ]
  },
  {
   "cell_type": "code",
   "execution_count": 2,
   "id": "e2dc3acf-d5b2-4fab-a183-6240f033568e",
   "metadata": {},
   "outputs": [],
   "source": [
    "from openai import OpenAI"
   ]
  },
  {
   "cell_type": "code",
   "execution_count": 8,
   "id": "d3080a37-0d6a-42d8-b5db-efc4dcd79e6a",
   "metadata": {},
   "outputs": [],
   "source": [
    "client = OpenAI()\n",
    "#os.environ"
   ]
  },
  {
   "cell_type": "code",
   "execution_count": 9,
   "id": "ce48cbbb-7792-4964-8d38-dcb860a50b11",
   "metadata": {},
   "outputs": [],
   "source": [
    "#import os\n",
    "#os.environ"
   ]
  },
  {
   "cell_type": "code",
   "execution_count": 10,
   "id": "ba1d00f8-2a7b-457a-bc6a-9caf29d0833b",
   "metadata": {},
   "outputs": [],
   "source": [
    "response = client.chat.completions.create(\n",
    "                               model='gpt-4o', \n",
    "                               messages=[{\"role\" : \"user\", \"content\": \"is it too late to join the course\"}]\n",
    ")"
   ]
  },
  {
   "cell_type": "code",
   "execution_count": 11,
   "id": "890ac38e-b4c7-4556-b795-ed8e66405d7f",
   "metadata": {},
   "outputs": [
    {
     "data": {
      "text/plain": [
       "ChatCompletion(id='chatcmpl-9enJAY2acrDd72qjapG61eMVhV3GP', choices=[Choice(finish_reason='stop', index=0, logprobs=None, message=ChatCompletionMessage(content=\"Whether it's too late to join a course depends on several factors, including the specific course's registration deadlines, the academic calendar, and the institution offering the course. Here are a few steps you can take to determine if it's still possible for you to join:\\n\\n1. **Check Registration Deadlines:** Look at the official website of the institution or the course provider for registration deadlines. Deadlines for adding classes can vary widely between institutions and courses.\\n\\n2. **Contact the Instructor or Administration:** Reach out to the course instructor or the academic administration. They can provide detailed information on whether late enrollment is possible and any steps you need to take.\\n\\n3. **Review Course Policies:** Some courses may have specific policies on late enrollment, including possible fees, prerequisites, or the need for special permissions.\\n\\n4. **Consider Self-Paced Options:** If traditional enrollment is closed, some institutions and online platforms offer self-paced courses that you can start at any time.\\n\\n5. **Catch-Up Plan:** If late enrollment is permitted, ask about a catch-up plan to ensure you won't fall behind. This may include additional readings or assignments.\\n\\n6. **Financial Aid:** If you are relying on financial aid, make sure that late enrollment will not affect your eligibility or financial standing.\\n\\nWould you like assistance looking up details for a specific course or institution?\", role='assistant', function_call=None, tool_calls=None))], created=1719509688, model='gpt-4o-2024-05-13', object='chat.completion', service_tier=None, system_fingerprint='fp_ce0793330f', usage=CompletionUsage(completion_tokens=265, prompt_tokens=15, total_tokens=280))"
      ]
     },
     "execution_count": 11,
     "metadata": {},
     "output_type": "execute_result"
    }
   ],
   "source": [
    "response"
   ]
  },
  {
   "cell_type": "code",
   "execution_count": 12,
   "id": "027615a9-e30b-43ec-82bc-769a4181be89",
   "metadata": {},
   "outputs": [
    {
     "data": {
      "text/plain": [
       "\"Whether it's too late to join a course depends on several factors, including the specific course's registration deadlines, the academic calendar, and the institution offering the course. Here are a few steps you can take to determine if it's still possible for you to join:\\n\\n1. **Check Registration Deadlines:** Look at the official website of the institution or the course provider for registration deadlines. Deadlines for adding classes can vary widely between institutions and courses.\\n\\n2. **Contact the Instructor or Administration:** Reach out to the course instructor or the academic administration. They can provide detailed information on whether late enrollment is possible and any steps you need to take.\\n\\n3. **Review Course Policies:** Some courses may have specific policies on late enrollment, including possible fees, prerequisites, or the need for special permissions.\\n\\n4. **Consider Self-Paced Options:** If traditional enrollment is closed, some institutions and online platforms offer self-paced courses that you can start at any time.\\n\\n5. **Catch-Up Plan:** If late enrollment is permitted, ask about a catch-up plan to ensure you won't fall behind. This may include additional readings or assignments.\\n\\n6. **Financial Aid:** If you are relying on financial aid, make sure that late enrollment will not affect your eligibility or financial standing.\\n\\nWould you like assistance looking up details for a specific course or institution?\""
      ]
     },
     "execution_count": 12,
     "metadata": {},
     "output_type": "execute_result"
    }
   ],
   "source": [
    "response.choices[0].message.content"
   ]
  },
  {
   "cell_type": "code",
   "execution_count": null,
   "id": "2af10fc8-a678-426f-9d98-680116d46d7d",
   "metadata": {},
   "outputs": [],
   "source": []
  },
  {
   "cell_type": "code",
   "execution_count": null,
   "id": "9f203e64-63a4-4224-b776-2d97924e2ca9",
   "metadata": {},
   "outputs": [],
   "source": []
  },
  {
   "cell_type": "code",
   "execution_count": null,
   "id": "7577ab13-95bc-4692-84fb-10e113941e7d",
   "metadata": {},
   "outputs": [],
   "source": []
  }
 ],
 "metadata": {
  "kernelspec": {
   "display_name": "Python 3 (ipykernel)",
   "language": "python",
   "name": "python3"
  },
  "language_info": {
   "codemirror_mode": {
    "name": "ipython",
    "version": 3
   },
   "file_extension": ".py",
   "mimetype": "text/x-python",
   "name": "python",
   "nbconvert_exporter": "python",
   "pygments_lexer": "ipython3",
   "version": "3.10.13"
  }
 },
 "nbformat": 4,
 "nbformat_minor": 5
}
